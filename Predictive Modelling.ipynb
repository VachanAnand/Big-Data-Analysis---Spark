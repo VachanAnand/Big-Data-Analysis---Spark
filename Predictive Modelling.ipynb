{
 "cells": [
  {
   "cell_type": "markdown",
   "metadata": {},
   "source": [
    "# Predictive Modelling\n",
    "\n",
    "Libraries used:\n",
    "\n",
    "\n",
    "## 1. Introduction\n",
    "This task of the notebook consist of creating the model to predict if its goin to rain the next day based on a few features. The task goes as followes \n",
    "- Loading the required data from a csv file\n",
    "- Data preprocessing to make the data suitable to feed the model\n",
    "- Feature selection based on prior knowledge \n",
    "- Training 4 different the models\n",
    "- Comparing the models for best results\n",
    "\n",
    "More details for each task will be given in the following sections."
   ]
  },
  {
   "cell_type": "markdown",
   "metadata": {},
   "source": [
    "#### Importing the libraries required to complete the task "
   ]
  },
  {
   "cell_type": "code",
   "execution_count": 1,
   "metadata": {},
   "outputs": [],
   "source": [
    "from pyspark import SparkContext # Spark\n",
    "from pyspark.sql import SparkSession # Spark SQL\n",
    "from pyspark.ml.feature import VectorSlicer\n",
    "from pyspark.sql.types import FloatType\n",
    "from pyspark.sql.functions import udf\n",
    "from pyspark.sql.functions import when\n",
    "from pyspark.ml.feature import StringIndexer\n",
    "from pyspark.ml.linalg import Vectors\n",
    "from pyspark.ml.feature import VectorAssembler\n",
    "from pyspark.ml.classification import DecisionTreeClassifier\n",
    "from pyspark.ml.evaluation import MulticlassClassificationEvaluator\n",
    "from pyspark.ml.classification import RandomForestClassifier\n",
    "from pyspark.ml.classification import LogisticRegression\n",
    "from pyspark.ml.classification import GBTClassifier\n",
    "from pyspark.mllib.evaluation import MulticlassMetrics\n",
    "import matplotlib.pyplot as plt\n"
   ]
  },
  {
   "cell_type": "markdown",
   "metadata": {},
   "source": [
    "## A. Creating Spark Session adn Loading the Data\n",
    "\n",
    "### Step 01. Import Spark Session and initialize Spark\n",
    "\n",
    "The Spark Session object provides a single point entry for all the underlying functionality of spark. We start by creating a `sparkSession` object and configure it such that it can use 4 cores locally."
   ]
  },
  {
   "cell_type": "code",
   "execution_count": 2,
   "metadata": {},
   "outputs": [],
   "source": [
    "spark = SparkSession.builder.master(\"local[4]\").appName(\"Assignment 2\").getOrCreate()\n"
   ]
  },
  {
   "cell_type": "markdown",
   "metadata": {},
   "source": [
    "### Step 02. Load the dataset and print the schema and total number of lines"
   ]
  },
  {
   "cell_type": "code",
   "execution_count": 3,
   "metadata": {},
   "outputs": [],
   "source": [
    "weather_df = spark.read.option(\"header\", \"true\").csv(\"data/weatherAUS.csv\")"
   ]
  },
  {
   "cell_type": "markdown",
   "metadata": {},
   "source": [
    "#### Printing Schema"
   ]
  },
  {
   "cell_type": "code",
   "execution_count": 4,
   "metadata": {},
   "outputs": [
    {
     "name": "stdout",
     "output_type": "stream",
     "text": [
      "root\n",
      " |-- Date: string (nullable = true)\n",
      " |-- Location: string (nullable = true)\n",
      " |-- MinTemp: string (nullable = true)\n",
      " |-- MaxTemp: string (nullable = true)\n",
      " |-- Rainfall: string (nullable = true)\n",
      " |-- Evaporation: string (nullable = true)\n",
      " |-- Sunshine: string (nullable = true)\n",
      " |-- WindGustDir: string (nullable = true)\n",
      " |-- WindGustSpeed: string (nullable = true)\n",
      " |-- WindDir9am: string (nullable = true)\n",
      " |-- WindDir3pm: string (nullable = true)\n",
      " |-- WindSpeed9am: string (nullable = true)\n",
      " |-- WindSpeed3pm: string (nullable = true)\n",
      " |-- Humidity9am: string (nullable = true)\n",
      " |-- Humidity3pm: string (nullable = true)\n",
      " |-- Pressure9am: string (nullable = true)\n",
      " |-- Pressure3pm: string (nullable = true)\n",
      " |-- Cloud9am: string (nullable = true)\n",
      " |-- Cloud3pm: string (nullable = true)\n",
      " |-- Temp9am: string (nullable = true)\n",
      " |-- Temp3pm: string (nullable = true)\n",
      " |-- RainToday: string (nullable = true)\n",
      " |-- RainTomorrow: string (nullable = true)\n",
      "\n"
     ]
    }
   ],
   "source": [
    "weather_df.printSchema()"
   ]
  },
  {
   "cell_type": "markdown",
   "metadata": {},
   "source": [
    "#### Printing total number of entries"
   ]
  },
  {
   "cell_type": "code",
   "execution_count": 5,
   "metadata": {},
   "outputs": [
    {
     "name": "stdout",
     "output_type": "stream",
     "text": [
      "Total number of entries : 142193\n"
     ]
    }
   ],
   "source": [
    "total_entries = weather_df.count()\n",
    "print(\"Total number of entries :\",total_entries)"
   ]
  },
  {
   "cell_type": "markdown",
   "metadata": {},
   "source": [
    "## B. Data Cleaning and Processing\n",
    "\n",
    "Data cleasing is one of the most important aspect of machine learning task. A good data can improve the performance of the model by a huge amount.\n",
    "\n",
    "### Step 03. Delete columns from the dataset\n",
    "\n",
    "We start cleaning the data by deleting the columns that are not related to the target feature. "
   ]
  },
  {
   "cell_type": "code",
   "execution_count": 6,
   "metadata": {},
   "outputs": [],
   "source": [
    "drop_columns = [\"Date\",\"Location\",\"Evaporation\",\"Sunshine\",\"Cloud9am\",\"Cloud3pm\",\"Temp9am\",\"Temp3pm\"]\n",
    "df = weather_df.drop(*drop_columns)"
   ]
  },
  {
   "cell_type": "markdown",
   "metadata": {},
   "source": [
    "### Step 04. Print the number of missing data in each column\n",
    "Here we count the number of 'NA' values in each column so as to rectify them later. "
   ]
  },
  {
   "cell_type": "code",
   "execution_count": 7,
   "metadata": {},
   "outputs": [
    {
     "name": "stdout",
     "output_type": "stream",
     "text": [
      "Number of NA values per column\n",
      "MinTemp :  637\n",
      "MaxTemp :  322\n",
      "Rainfall :  1406\n",
      "WindGustDir :  9330\n",
      "WindGustSpeed :  9270\n",
      "WindDir9am :  10013\n",
      "WindDir3pm :  3778\n",
      "WindSpeed9am :  1348\n",
      "WindSpeed3pm :  2630\n",
      "Humidity9am :  1774\n",
      "Humidity3pm :  3610\n",
      "Pressure9am :  14014\n",
      "Pressure3pm :  13981\n",
      "RainToday :  1406\n",
      "RainTomorrow :  0\n"
     ]
    }
   ],
   "source": [
    "columns = df.columns\n",
    "print(\"Number of NA values per column\")\n",
    "\n",
    "for each in columns:\n",
    "    na_count = df.filter(df[each]==\"NA\").count()\n",
    "    print(each + \" : \", na_count)"
   ]
  },
  {
   "cell_type": "markdown",
   "metadata": {},
   "source": [
    "### Step 05 : Fill the missing data with average value and maximum occurrence value\n",
    "\n",
    "Here we try to impute the missing values in each column. The strategy for imputing the value is as follows :\n",
    "- For columns having numeric data, the NA values are replaced with the mean of the entire column.\n",
    "- For columns with non-numeric (string) data, the NA values are replaced with the maximum occuring value of the column."
   ]
  },
  {
   "cell_type": "code",
   "execution_count": 8,
   "metadata": {},
   "outputs": [],
   "source": [
    "numeric = [\"MinTemp\",\"MaxTemp\",\"Rainfall\",\"WindGustSpeed\",\"WindSpeed9am\",\"WindSpeed3pm\",\"Humidity9am\",\"Humidity3pm\",\"Pressure9am\",\"Pressure3pm\"]\n",
    "non_numeric = [\"WindGustDir\",\"WindDir9am\",\"WindDir3pm\",\"RainToday\",\"RainTomorrow\"]\n"
   ]
  },
  {
   "cell_type": "markdown",
   "metadata": {},
   "source": [
    "#### Processing Numeric columns"
   ]
  },
  {
   "cell_type": "code",
   "execution_count": 9,
   "metadata": {},
   "outputs": [],
   "source": [
    "def convert_number(value):\n",
    "    return float(value)"
   ]
  },
  {
   "cell_type": "code",
   "execution_count": 10,
   "metadata": {},
   "outputs": [],
   "source": [
    "covert_float = udf(lambda x: convert_number(x), FloatType())"
   ]
  },
  {
   "cell_type": "code",
   "execution_count": 11,
   "metadata": {},
   "outputs": [],
   "source": [
    "for each in numeric:\n",
    "    valid = df.filter(df[each] !=\"NA\")\n",
    "    col_mean = valid.agg({each: \"mean\"}).collect()[0][0]\n",
    "    df = df.withColumn(each,when(df[each] == \"NA\", col_mean).otherwise(df[each]))\n",
    "    df = df.withColumn(each,covert_float(each))\n",
    "\n",
    "    "
   ]
  },
  {
   "cell_type": "code",
   "execution_count": 12,
   "metadata": {},
   "outputs": [
    {
     "name": "stdout",
     "output_type": "stream",
     "text": [
      "root\n",
      " |-- MinTemp: float (nullable = true)\n",
      " |-- MaxTemp: float (nullable = true)\n",
      " |-- Rainfall: float (nullable = true)\n",
      " |-- WindGustDir: string (nullable = true)\n",
      " |-- WindGustSpeed: float (nullable = true)\n",
      " |-- WindDir9am: string (nullable = true)\n",
      " |-- WindDir3pm: string (nullable = true)\n",
      " |-- WindSpeed9am: float (nullable = true)\n",
      " |-- WindSpeed3pm: float (nullable = true)\n",
      " |-- Humidity9am: float (nullable = true)\n",
      " |-- Humidity3pm: float (nullable = true)\n",
      " |-- Pressure9am: float (nullable = true)\n",
      " |-- Pressure3pm: float (nullable = true)\n",
      " |-- RainToday: string (nullable = true)\n",
      " |-- RainTomorrow: string (nullable = true)\n",
      "\n"
     ]
    }
   ],
   "source": [
    "df.printSchema()"
   ]
  },
  {
   "cell_type": "markdown",
   "metadata": {},
   "source": [
    "#### Processing Non numeric columns "
   ]
  },
  {
   "cell_type": "code",
   "execution_count": 13,
   "metadata": {},
   "outputs": [],
   "source": [
    "for each in non_numeric:\n",
    "    valid = df.filter(df[each] !=\"NA\")\n",
    "    most_common = valid.groupBy(each).count().orderBy(\"count\", ascending=False).collect()[0][0]\n",
    "    df = df.withColumn(each,when(df[each] == \"NA\", most_common).otherwise(df[each]))"
   ]
  },
  {
   "cell_type": "markdown",
   "metadata": {},
   "source": [
    "### Step 06 : Data transformation\n",
    "\n",
    "In this step we transform the data such that it can be fed to the machine learning algorithm in spark. Here, we convert the string columns to numeric.\n"
   ]
  },
  {
   "cell_type": "code",
   "execution_count": 14,
   "metadata": {},
   "outputs": [],
   "source": [
    "new_df = df\n",
    "for each in non_numeric:\n",
    "    indexer = StringIndexer(inputCol=each, outputCol=each+\"_indexer\")\n",
    "    new_df = indexer.fit(new_df).transform(new_df)"
   ]
  },
  {
   "cell_type": "markdown",
   "metadata": {},
   "source": [
    "### Step 07 : Create the feature vector and divide the dataset\n",
    "\n",
    "Here we further process the dataframe for finally feeding it to the machine learning algorithm. The steps involved are as follows \n",
    "- First we dive the columns into two categories\n",
    "    - One for the features\n",
    "    - Other for the target\n",
    "- Next we create a feature vector from the columns that are used to train the model\n",
    "- Then remove all other columns apart from features and target\n",
    "- Finally we split the data in train set and test set as follows \n",
    "    - 70 % of the data is assigned to train set to train the model\n",
    "    - 30% of the data is assigned to test set for evaluatingthe model"
   ]
  },
  {
   "cell_type": "code",
   "execution_count": 15,
   "metadata": {},
   "outputs": [],
   "source": [
    "non_numeric_indexer = non_numeric\n",
    "for each in range(0,len(non_numeric)):\n",
    "    non_numeric_indexer[each] = non_numeric[each]+\"_indexer\"\n",
    "input_features = numeric + non_numeric_indexer\n",
    "input_features.remove(\"RainTomorrow_indexer\")\n",
    "\n"
   ]
  },
  {
   "cell_type": "markdown",
   "metadata": {},
   "source": [
    "#### Creating the Feature Vector"
   ]
  },
  {
   "cell_type": "code",
   "execution_count": 16,
   "metadata": {},
   "outputs": [],
   "source": [
    "vector_assembler = VectorAssembler(inputCols = input_features, outputCol=\"features\")\n",
    "df_temp = vector_assembler.transform(new_df)\n",
    "\n"
   ]
  },
  {
   "cell_type": "markdown",
   "metadata": {},
   "source": [
    "#### Removing duplicate and unnecessary columns"
   ]
  },
  {
   "cell_type": "code",
   "execution_count": 17,
   "metadata": {},
   "outputs": [],
   "source": [
    "remove_columns = df_temp.columns\n",
    "if \"features\" in remove_columns:\n",
    "    remove_columns.remove(\"features\")\n",
    "if \"RainTomorrow_indexer\" in remove_columns:\n",
    "    remove_columns.remove(\"RainTomorrow_indexer\")    \n",
    "\n",
    "    \n",
    "new_df = df_temp.drop(*remove_columns)"
   ]
  },
  {
   "cell_type": "markdown",
   "metadata": {},
   "source": [
    "#### Splitting the data"
   ]
  },
  {
   "cell_type": "code",
   "execution_count": 18,
   "metadata": {},
   "outputs": [],
   "source": [
    "(train_set, test_set) = new_df.randomSplit([0.7, 0.3])"
   ]
  },
  {
   "cell_type": "markdown",
   "metadata": {},
   "source": [
    "## C. Applying Machine Learning Algorithm\n",
    "\n",
    "### Step 08 : Apply machine learning classification algorithms on the dataset and compare their accuracy.\n",
    "\n",
    "In this step we perform the following task :\n",
    "- Build 4 different machine learning classification models:\n",
    "    - Decision Tree\n",
    "    - Random Forest\n",
    "    - Logistic Regression\n",
    "    - Gradient Boosted Trees\n",
    "- Calculate the accuracies for each model\n",
    "- Plot and compare the performance of each model"
   ]
  },
  {
   "cell_type": "markdown",
   "metadata": {},
   "source": [
    "#### Decision Tree"
   ]
  },
  {
   "cell_type": "code",
   "execution_count": 19,
   "metadata": {},
   "outputs": [],
   "source": [
    "decision_tree = DecisionTreeClassifier(labelCol= \"RainTomorrow_indexer\", featuresCol=\"features\",seed= 1234,maxDepth = 30)\n",
    "decision_tree_model = decision_tree.fit(train_set)\n",
    "\n",
    "predictions_dt = decision_tree_model.transform(test_set)\n",
    "\n",
    "dt_eval = MulticlassClassificationEvaluator(predictionCol='prediction', labelCol='RainTomorrow_indexer', metricName='accuracy')\n",
    "dt_accuracy = dt_eval.evaluate(predictions_dt)"
   ]
  },
  {
   "cell_type": "markdown",
   "metadata": {},
   "source": [
    "#### Random Forest"
   ]
  },
  {
   "cell_type": "code",
   "execution_count": 20,
   "metadata": {},
   "outputs": [],
   "source": [
    "random_forest = RandomForestClassifier(labelCol= \"RainTomorrow_indexer\", featuresCol=\"features\",numTrees=10,maxDepth = 30,seed = 1234)\n",
    "random_forest_model = random_forest.fit(train_set)\n",
    "\n",
    "predictions_rf = random_forest_model.transform(test_set)\n",
    "\n",
    "rf_eval = MulticlassClassificationEvaluator(predictionCol='prediction', labelCol='RainTomorrow_indexer', metricName='accuracy')\n",
    "rf_accuracy = rf_eval.evaluate(predictions_rf)\n"
   ]
  },
  {
   "cell_type": "markdown",
   "metadata": {},
   "source": [
    "#### Logistic Regression"
   ]
  },
  {
   "cell_type": "code",
   "execution_count": 21,
   "metadata": {},
   "outputs": [],
   "source": [
    "logistic_regression = LogisticRegression(labelCol= \"RainTomorrow_indexer\", featuresCol=\"features\",maxIter=10)\n",
    "logistic_regression_model = logistic_regression.fit(train_set)\n",
    "\n",
    "predictions_lr = logistic_regression_model.transform(test_set)\n",
    "\n",
    "lr_eval = MulticlassClassificationEvaluator(predictionCol='prediction', labelCol='RainTomorrow_indexer', metricName='accuracy')\n",
    "lr_accuracy = lr_eval.evaluate(predictions_lr)\n"
   ]
  },
  {
   "cell_type": "markdown",
   "metadata": {},
   "source": [
    "#### Gradient Boosted Tree"
   ]
  },
  {
   "cell_type": "code",
   "execution_count": 22,
   "metadata": {},
   "outputs": [],
   "source": [
    "gbt_classifier = GBTClassifier(labelCol= \"RainTomorrow_indexer\", featuresCol=\"features\",seed = 1234)\n",
    "gbt_classifier_model = gbt_classifier.fit(train_set)\n",
    "\n",
    "predictions_gbt = gbt_classifier_model.transform(test_set)\n",
    "\n",
    "gbt_eval = MulticlassClassificationEvaluator(predictionCol='prediction', labelCol='RainTomorrow_indexer', metricName='accuracy')\n",
    "gbt_accuracy = gbt_eval.evaluate(predictions_gbt)\n"
   ]
  },
  {
   "cell_type": "markdown",
   "metadata": {},
   "source": [
    "#### Printing the Accuracies"
   ]
  },
  {
   "cell_type": "code",
   "execution_count": 23,
   "metadata": {},
   "outputs": [
    {
     "name": "stdout",
     "output_type": "stream",
     "text": [
      "gbt_accuracy = 84.39280605904284 %\n",
      "lr_accuracy = 81.6048022135203 %\n",
      "rf_accuracy = 83.80894318474922 %\n",
      "dt_accuracy = 77.4990034469013 %\n"
     ]
    }
   ],
   "source": [
    "gbt_accuracy = gbt_accuracy * 100\n",
    "lr_accuracy = lr_accuracy * 100\n",
    "rf_accuracy = rf_accuracy * 100\n",
    "dt_accuracy = dt_accuracy *100\n",
    "\n",
    "\n",
    "print(\"gbt_accuracy =\",gbt_accuracy, \"%\")\n",
    "print(\"lr_accuracy =\",lr_accuracy, \"%\")\n",
    "print(\"rf_accuracy =\",rf_accuracy, \"%\")\n",
    "print(\"dt_accuracy =\",dt_accuracy, \"%\")"
   ]
  },
  {
   "cell_type": "markdown",
   "metadata": {},
   "source": [
    "### Plotting and comparing the accuracy"
   ]
  },
  {
   "cell_type": "code",
   "execution_count": 24,
   "metadata": {},
   "outputs": [],
   "source": [
    "plot_labels = [\"GBT\",\"Logistic Regression\",\"Random Forest\",\"Decision Tree\"]\n",
    "plot_value = [gbt_accuracy,lr_accuracy,rf_accuracy,dt_accuracy]             \n"
   ]
  },
  {
   "cell_type": "code",
   "execution_count": 25,
   "metadata": {},
   "outputs": [
    {
     "data": {
      "image/png": "[encoded data removed]",
      "text/plain": [
       "<Figure size 720x720 with 1 Axes>"
      ]
     },
     "metadata": {},
     "output_type": "display_data"
    }
   ],
   "source": [
    "fig,ax = plt.subplots(figsize = (10,10))\n",
    "ax.bar(plot_labels,plot_value)\n",
    "ax.set_xlabel('Model')\n",
    "ax.set_ylim(ymin=70,ymax = 100)\n",
    "ax.set_ylabel('Model Accuracy (Percentage)')\n",
    "ax.set_title(\"Comparison of Models\")\n",
    "ax.tick_params(labelrotation=90)\n",
    "plt.tight_layout()\n",
    "plt.show()"
   ]
  },
  {
   "cell_type": "markdown",
   "metadata": {},
   "source": [
    "### Step 09 : Calculate the confusion matrix and find precision, recall and F1 score of each classification algorithm. Explain how the accuracy of the prediction can be improved.\n",
    "\n",
    "In this step we try to evaluate the quality of the model using metrics other than accuracy. The steps involved are as follows :\n",
    "- Compute the Confusion matrix for each model\n",
    "- Compute Precision, recall and F1 score for each model for predicting rain tomorrow.\n"
   ]
  },
  {
   "cell_type": "code",
   "execution_count": 26,
   "metadata": {},
   "outputs": [],
   "source": [
    "metrics_gbt = MulticlassMetrics(predictions_gbt.select([\"prediction\",\"RainTomorrow_indexer\"]).rdd)\n",
    "cm_gbt=metrics_gbt.confusionMatrix().toArray()\n",
    "\n",
    "metrics_rf = MulticlassMetrics(predictions_rf.select([\"prediction\",\"RainTomorrow_indexer\"]).rdd)\n",
    "cm_rf=metrics_rf.confusionMatrix().toArray()\n",
    "\n",
    "metrics_lr = MulticlassMetrics(predictions_lr.select([\"prediction\",\"RainTomorrow_indexer\"]).rdd)\n",
    "cm_lr=metrics_lr.confusionMatrix().toArray()\n",
    "\n",
    "metrics_dt = MulticlassMetrics(predictions_dt.select([\"prediction\",\"RainTomorrow_indexer\"]).rdd)\n",
    "cm_dt=metrics_dt.confusionMatrix().toArray()\n"
   ]
  },
  {
   "cell_type": "markdown",
   "metadata": {},
   "source": [
    "#### Calculating the Performance of each model"
   ]
  },
  {
   "cell_type": "code",
   "execution_count": 27,
   "metadata": {},
   "outputs": [],
   "source": [
    "def calculate_accuracy(mat):\n",
    "    accuracy_measures = dict()\n",
    "    accuracy_measures[\"precision\"] = precision = mat[1][1]/(mat[1][1] + mat[0][1] )\n",
    "    accuracy_measures[\"recall\"] = recall = mat[1][1]/(mat[1][1] + mat[1][0] )\n",
    "    accuracy_measures[\"f1\"] = (2*precision * recall )/ (precision + recall)\n",
    "    return accuracy_measures\n",
    "    "
   ]
  },
  {
   "cell_type": "code",
   "execution_count": 28,
   "metadata": {},
   "outputs": [
    {
     "data": {
      "text/plain": [
       "{'precision': 0.494834202499262,\n",
       " 'recall': 0.529870403540196,\n",
       " 'f1': 0.5117533326549303}"
      ]
     },
     "execution_count": 28,
     "metadata": {},
     "output_type": "execute_result"
    }
   ],
   "source": [
    "calculate_accuracy(cm_dt)"
   ]
  },
  {
   "cell_type": "code",
   "execution_count": 29,
   "metadata": {},
   "outputs": [
    {
     "data": {
      "text/plain": [
       "{'precision': 0.6893673110720563,\n",
       " 'recall': 0.4959435254451586,\n",
       " 'f1': 0.5768735829401311}"
      ]
     },
     "execution_count": 29,
     "metadata": {},
     "output_type": "execute_result"
    }
   ],
   "source": [
    "calculate_accuracy(cm_rf)"
   ]
  },
  {
   "cell_type": "code",
   "execution_count": 30,
   "metadata": {},
   "outputs": [
    {
     "data": {
      "text/plain": [
       "{'precision': 0.6294025157232704,\n",
       " 'recall': 0.42176799072805815,\n",
       " 'f1': 0.5050785439404454}"
      ]
     },
     "execution_count": 30,
     "metadata": {},
     "output_type": "execute_result"
    }
   ],
   "source": [
    "calculate_accuracy(cm_lr)"
   ]
  },
  {
   "cell_type": "code",
   "execution_count": 31,
   "metadata": {},
   "outputs": [
    {
     "data": {
      "text/plain": [
       "{'precision': 0.7285921625544267,\n",
       " 'recall': 0.4760299230850279,\n",
       " 'f1': 0.5758348202905939}"
      ]
     },
     "execution_count": 31,
     "metadata": {},
     "output_type": "execute_result"
    }
   ],
   "source": [
    "calculate_accuracy(cm_gbt)"
   ]
  },
  {
   "cell_type": "markdown",
   "metadata": {},
   "source": [
    "### Improving accuracy of the model\n",
    "There are quite a few statergies we can implement to further improve the accuracy of the model\n",
    "- **Parameter Tuning** : In the model built above we have used the default parameters for most of the models. This does not guarantee a global optimal solution for each model. To improve the accuracy we can use loops and tune the model for each parameter such as learning rate, maximum depth of a tree, number of trees in random forest, number of iterations, etc to find the parameters that reduces the test error the most. \n",
    "\n",
    "- **Feature Selection** : In the model above we used our prior knowledge of the features, to remove a few columns in the data. Eventhough we reduced the number of features, we can still reduce the fetures using exploratory data analysis. We can reduce the columns further using the following logic \n",
    "    - removing features that have low correlation with target\n",
    "    - removing features that have high correlation with other features\n",
    "    - removing features that have low variance among themselves as the model would not learn much from these features and may overfit the data\n",
    "Further we can use advanced feature selection techniques such as `step-forward feature selection`, `step-backward feature selection`, etc.\n",
    "- **Cross validation** : Instead of using just one set of data to evaluate the performance of the model, we can use cross validation sets to reduce the variance and incraese the performance of the model. \n",
    "    "
   ]
  }
 ],
 "metadata": {
  "kernelspec": {
   "display_name": "Python 3",
   "language": "python",
   "name": "python3"
  },
  "language_info": {
   "codemirror_mode": {
    "name": "ipython",
    "version": 3
   },
   "file_extension": ".py",
   "mimetype": "text/x-python",
   "name": "python",
   "nbconvert_exporter": "python",
   "pygments_lexer": "ipython3",
   "version": "3.8.3"
  }
 },
 "nbformat": 4,
 "nbformat_minor": 2
}
